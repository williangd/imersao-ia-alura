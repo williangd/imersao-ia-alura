{
  "nbformat": 4,
  "nbformat_minor": 0,
  "metadata": {
    "colab": {
      "provenance": [],
      "authorship_tag": "ABX9TyOhZYRWYTdsnafSAY2QYePL",
      "include_colab_link": true
    },
    "kernelspec": {
      "name": "python3",
      "display_name": "Python 3"
    },
    "language_info": {
      "name": "python"
    }
  },
  "cells": [
    {
      "cell_type": "markdown",
      "metadata": {
        "id": "view-in-github",
        "colab_type": "text"
      },
      "source": [
        "<a href=\"https://colab.research.google.com/github/williangd/imersao-ia-alura/blob/main/google_gemini.ipynb\" target=\"_parent\"><img src=\"https://colab.research.google.com/assets/colab-badge.svg\" alt=\"Open In Colab\"/></a>"
      ]
    },
    {
      "cell_type": "markdown",
      "source": [
        "Configurar o modelo"
      ],
      "metadata": {
        "id": "SZSDKmOenuz2"
      }
    },
    {
      "cell_type": "code",
      "execution_count": 32,
      "metadata": {
        "id": "W93_LgNdfjqH"
      },
      "outputs": [],
      "source": [
        "import google.generativeai as genai\n",
        "from google.colab import userdata\n",
        "api_key = userdata.get('API_KEY')\n",
        "\n",
        "genai.configure(api_key=api_key)\n",
        "\n",
        "generation_config = {\n",
        "    \"candidate_count\": 1,\n",
        "    \"temperature\": 0.5,\n",
        "}\n",
        "\n",
        "safety_settings = {\n",
        "    'HARASSMENT': 'BLOCK_NONE',\n",
        "    'HATE': 'BLOCK_NONE',\n",
        "    'SEXUAL': 'BLOCK_NONE',\n",
        "    'DANGEROUS': 'BLOCK_NONE',\n",
        "}\n",
        "\n",
        "model = genai.GenerativeModel(\n",
        "    model_name='gemini-1.0-pro',\n",
        "    safety_settings=safety_settings,\n",
        "    generation_config=generation_config\n",
        ")"
      ]
    },
    {
      "cell_type": "markdown",
      "source": [
        "Verificar versões do gemini disponíveis"
      ],
      "metadata": {
        "id": "cCQBIHLVwK9-"
      }
    },
    {
      "cell_type": "code",
      "source": [
        "for model in genai.list_models():\n",
        "  if 'generateContent' in model.supported_generation_methods:\n",
        "    print(model.name)"
      ],
      "metadata": {
        "id": "y6cz860VwBkJ"
      },
      "execution_count": null,
      "outputs": []
    },
    {
      "cell_type": "markdown",
      "source": [
        "Iniciar o chat"
      ],
      "metadata": {
        "id": "lAsMQc6wwixt"
      }
    },
    {
      "cell_type": "code",
      "source": [
        "chat = model.start_chat(history=[])"
      ],
      "metadata": {
        "id": "hQPumU4Sn8Mo"
      },
      "execution_count": 13,
      "outputs": []
    },
    {
      "cell_type": "markdown",
      "source": [
        "Método para formatar a resposta com markdown"
      ],
      "metadata": {
        "id": "85JqqTwnwRHq"
      }
    },
    {
      "cell_type": "code",
      "source": [
        "import textwrap\n",
        "from IPython.display import display\n",
        "from IPython.display import Markdown\n",
        "\n",
        "\n",
        "def to_markdown(text):\n",
        "  text = text.replace('•', '  *')\n",
        "  return Markdown(textwrap.indent(text, '> ', predicate=lambda _: True))"
      ],
      "metadata": {
        "id": "Wi9XNZFmsx3t"
      },
      "execution_count": 24,
      "outputs": []
    },
    {
      "cell_type": "markdown",
      "source": [
        "Capturar a pergunta e buscar a resposta no gemini"
      ],
      "metadata": {
        "id": "62ERmSbvwovk"
      }
    },
    {
      "cell_type": "code",
      "source": [
        "while prompt != 'fim':\n",
        "  prompt = input('Digite o seu texto: ')\n",
        "  response = chat.send_message(prompt)\n",
        "  display(to_markdown(response.text))"
      ],
      "metadata": {
        "id": "wcJlI5q-qZmp"
      },
      "execution_count": null,
      "outputs": []
    }
  ]
}